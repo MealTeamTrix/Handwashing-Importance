{
 "cells": [
  {
   "cell_type": "markdown",
   "id": "35a83358-cc2d-40d8-b2b6-9e4c314ebcbc",
   "metadata": {},
   "source": [
    "# The Importance of Handwashing\n",
    "\n",
    "The purpose of this project is to answer the following:\n",
    "* What year had the highest yearly proportion of deaths at each clinic?\n",
    "* What are the mean proportions of deaths before and after handwashing from the month data?\n",
    "* Analyze the difference in the mean monthly proportion of deaths before and after the introduction of handwashing?"
   ]
  },
  {
   "cell_type": "code",
   "execution_count": 1,
   "id": "72343f1c-ba25-4c92-8cea-a582ccb934be",
   "metadata": {},
   "outputs": [],
   "source": [
    "# Import libraries\n",
    "import pandas as pd\n",
    "import matplotlib.pyplot as plt"
   ]
  },
  {
   "cell_type": "code",
   "execution_count": 8,
   "id": "7b80d45c-37ed-49f0-852d-971ae7ef5c07",
   "metadata": {},
   "outputs": [
    {
     "data": {
      "text/html": [
       "<div>\n",
       "<style scoped>\n",
       "    .dataframe tbody tr th:only-of-type {\n",
       "        vertical-align: middle;\n",
       "    }\n",
       "\n",
       "    .dataframe tbody tr th {\n",
       "        vertical-align: top;\n",
       "    }\n",
       "\n",
       "    .dataframe thead th {\n",
       "        text-align: right;\n",
       "    }\n",
       "</style>\n",
       "<table border=\"1\" class=\"dataframe\">\n",
       "  <thead>\n",
       "    <tr style=\"text-align: right;\">\n",
       "      <th></th>\n",
       "      <th>date</th>\n",
       "      <th>births</th>\n",
       "      <th>deaths</th>\n",
       "    </tr>\n",
       "  </thead>\n",
       "  <tbody>\n",
       "    <tr>\n",
       "      <th>0</th>\n",
       "      <td>1841-01-01</td>\n",
       "      <td>254</td>\n",
       "      <td>37</td>\n",
       "    </tr>\n",
       "    <tr>\n",
       "      <th>1</th>\n",
       "      <td>1841-02-01</td>\n",
       "      <td>239</td>\n",
       "      <td>18</td>\n",
       "    </tr>\n",
       "    <tr>\n",
       "      <th>2</th>\n",
       "      <td>1841-03-01</td>\n",
       "      <td>277</td>\n",
       "      <td>12</td>\n",
       "    </tr>\n",
       "    <tr>\n",
       "      <th>3</th>\n",
       "      <td>1841-04-01</td>\n",
       "      <td>255</td>\n",
       "      <td>4</td>\n",
       "    </tr>\n",
       "    <tr>\n",
       "      <th>4</th>\n",
       "      <td>1841-05-01</td>\n",
       "      <td>255</td>\n",
       "      <td>2</td>\n",
       "    </tr>\n",
       "  </tbody>\n",
       "</table>\n",
       "</div>"
      ],
      "text/plain": [
       "         date  births  deaths\n",
       "0  1841-01-01     254      37\n",
       "1  1841-02-01     239      18\n",
       "2  1841-03-01     277      12\n",
       "3  1841-04-01     255       4\n",
       "4  1841-05-01     255       2"
      ]
     },
     "execution_count": 8,
     "metadata": {},
     "output_type": "execute_result"
    }
   ],
   "source": [
    "# Read in the data\n",
    "monthly = pd.read_csv('data/monthly_deaths.csv')\n",
    "yearly = pd.read_csv('data/yearly_deaths_by_clinic.csv')\n",
    "\n",
    "# View the results\n",
    "monthly.head()"
   ]
  },
  {
   "cell_type": "code",
   "execution_count": 7,
   "id": "eeab1568-2b07-41b9-9920-9f085e3f5803",
   "metadata": {},
   "outputs": [
    {
     "data": {
      "text/html": [
       "<div>\n",
       "<style scoped>\n",
       "    .dataframe tbody tr th:only-of-type {\n",
       "        vertical-align: middle;\n",
       "    }\n",
       "\n",
       "    .dataframe tbody tr th {\n",
       "        vertical-align: top;\n",
       "    }\n",
       "\n",
       "    .dataframe thead th {\n",
       "        text-align: right;\n",
       "    }\n",
       "</style>\n",
       "<table border=\"1\" class=\"dataframe\">\n",
       "  <thead>\n",
       "    <tr style=\"text-align: right;\">\n",
       "      <th></th>\n",
       "      <th>year</th>\n",
       "      <th>births</th>\n",
       "      <th>deaths</th>\n",
       "      <th>clinic</th>\n",
       "    </tr>\n",
       "  </thead>\n",
       "  <tbody>\n",
       "    <tr>\n",
       "      <th>0</th>\n",
       "      <td>1841</td>\n",
       "      <td>3036</td>\n",
       "      <td>237</td>\n",
       "      <td>clinic 1</td>\n",
       "    </tr>\n",
       "    <tr>\n",
       "      <th>1</th>\n",
       "      <td>1842</td>\n",
       "      <td>3287</td>\n",
       "      <td>518</td>\n",
       "      <td>clinic 1</td>\n",
       "    </tr>\n",
       "    <tr>\n",
       "      <th>2</th>\n",
       "      <td>1843</td>\n",
       "      <td>3060</td>\n",
       "      <td>274</td>\n",
       "      <td>clinic 1</td>\n",
       "    </tr>\n",
       "    <tr>\n",
       "      <th>3</th>\n",
       "      <td>1844</td>\n",
       "      <td>3157</td>\n",
       "      <td>260</td>\n",
       "      <td>clinic 1</td>\n",
       "    </tr>\n",
       "    <tr>\n",
       "      <th>4</th>\n",
       "      <td>1845</td>\n",
       "      <td>3492</td>\n",
       "      <td>241</td>\n",
       "      <td>clinic 1</td>\n",
       "    </tr>\n",
       "  </tbody>\n",
       "</table>\n",
       "</div>"
      ],
      "text/plain": [
       "   year  births  deaths    clinic\n",
       "0  1841    3036     237  clinic 1\n",
       "1  1842    3287     518  clinic 1\n",
       "2  1843    3060     274  clinic 1\n",
       "3  1844    3157     260  clinic 1\n",
       "4  1845    3492     241  clinic 1"
      ]
     },
     "execution_count": 7,
     "metadata": {},
     "output_type": "execute_result"
    }
   ],
   "source": [
    "yearly.head()"
   ]
  },
  {
   "cell_type": "code",
   "execution_count": 9,
   "id": "ef451fdd-5908-4b80-b8bb-c301698cce3e",
   "metadata": {},
   "outputs": [
    {
     "data": {
      "text/html": [
       "<div>\n",
       "<style scoped>\n",
       "    .dataframe tbody tr th:only-of-type {\n",
       "        vertical-align: middle;\n",
       "    }\n",
       "\n",
       "    .dataframe tbody tr th {\n",
       "        vertical-align: top;\n",
       "    }\n",
       "\n",
       "    .dataframe thead th {\n",
       "        text-align: right;\n",
       "    }\n",
       "</style>\n",
       "<table border=\"1\" class=\"dataframe\">\n",
       "  <thead>\n",
       "    <tr style=\"text-align: right;\">\n",
       "      <th></th>\n",
       "      <th>year</th>\n",
       "      <th>births</th>\n",
       "      <th>deaths</th>\n",
       "      <th>clinic</th>\n",
       "      <th>proportion_deaths</th>\n",
       "    </tr>\n",
       "  </thead>\n",
       "  <tbody>\n",
       "    <tr>\n",
       "      <th>0</th>\n",
       "      <td>1841</td>\n",
       "      <td>3036</td>\n",
       "      <td>237</td>\n",
       "      <td>clinic 1</td>\n",
       "      <td>0.078063</td>\n",
       "    </tr>\n",
       "    <tr>\n",
       "      <th>1</th>\n",
       "      <td>1842</td>\n",
       "      <td>3287</td>\n",
       "      <td>518</td>\n",
       "      <td>clinic 1</td>\n",
       "      <td>0.157591</td>\n",
       "    </tr>\n",
       "    <tr>\n",
       "      <th>2</th>\n",
       "      <td>1843</td>\n",
       "      <td>3060</td>\n",
       "      <td>274</td>\n",
       "      <td>clinic 1</td>\n",
       "      <td>0.089542</td>\n",
       "    </tr>\n",
       "    <tr>\n",
       "      <th>3</th>\n",
       "      <td>1844</td>\n",
       "      <td>3157</td>\n",
       "      <td>260</td>\n",
       "      <td>clinic 1</td>\n",
       "      <td>0.082357</td>\n",
       "    </tr>\n",
       "    <tr>\n",
       "      <th>4</th>\n",
       "      <td>1845</td>\n",
       "      <td>3492</td>\n",
       "      <td>241</td>\n",
       "      <td>clinic 1</td>\n",
       "      <td>0.069015</td>\n",
       "    </tr>\n",
       "  </tbody>\n",
       "</table>\n",
       "</div>"
      ],
      "text/plain": [
       "   year  births  deaths    clinic  proportion_deaths\n",
       "0  1841    3036     237  clinic 1           0.078063\n",
       "1  1842    3287     518  clinic 1           0.157591\n",
       "2  1843    3060     274  clinic 1           0.089542\n",
       "3  1844    3157     260  clinic 1           0.082357\n",
       "4  1845    3492     241  clinic 1           0.069015"
      ]
     },
     "execution_count": 9,
     "metadata": {},
     "output_type": "execute_result"
    }
   ],
   "source": [
    "# Add the proportions to the yearly dataframe\n",
    "yearly['proportion_deaths'] = yearly['deaths'] / yearly['births']\n",
    "\n",
    "# View the results\n",
    "yearly.head()"
   ]
  },
  {
   "cell_type": "code",
   "execution_count": 11,
   "id": "c58ad36b-dad8-4dfe-920e-07c81525c7e7",
   "metadata": {},
   "outputs": [
    {
     "data": {
      "text/plain": [
       "Text(0.5, 1.0, 'Proportion of Deaths Over Time by Clinic')"
      ]
     },
     "execution_count": 11,
     "metadata": {},
     "output_type": "execute_result"
    },
    {
     "data": {
      "image/png": "[encoded data removed]",
      "text/plain": [
       "<Figure size 640x480 with 1 Axes>"
      ]
     },
     "metadata": {},
     "output_type": "display_data"
    }
   ],
   "source": [
    "# Plot the data\n",
    "for clinic_name in set(yearly['clinic']):\n",
    "    subset = yearly[yearly['clinic'] == clinic_name]\n",
    "    plt.plot(subset['year'], subset['proportion_deaths'], label=clinic_name)\n",
    "plt.xlabel('Year')\n",
    "plt.ylabel('Proportion of Death')\n",
    "plt.legend()\n",
    "plt.title('Proportion of Deaths Over Time by Clinic')"
   ]
  },
  {
   "cell_type": "code",
   "execution_count": 12,
   "id": "c215a8fd-e193-44f9-9407-b2d9424a72db",
   "metadata": {},
   "outputs": [],
   "source": [
    "# Identify the highest year and save it\n",
    "highest_year = 1842"
   ]
  },
  {
   "cell_type": "code",
   "execution_count": 13,
   "id": "f86f4331-1163-474c-b20b-6951b4ccde3c",
   "metadata": {},
   "outputs": [
    {
     "data": {
      "text/html": [
       "<div>\n",
       "<style scoped>\n",
       "    .dataframe tbody tr th:only-of-type {\n",
       "        vertical-align: middle;\n",
       "    }\n",
       "\n",
       "    .dataframe tbody tr th {\n",
       "        vertical-align: top;\n",
       "    }\n",
       "\n",
       "    .dataframe thead th {\n",
       "        text-align: right;\n",
       "    }\n",
       "</style>\n",
       "<table border=\"1\" class=\"dataframe\">\n",
       "  <thead>\n",
       "    <tr style=\"text-align: right;\">\n",
       "      <th></th>\n",
       "      <th>date</th>\n",
       "      <th>births</th>\n",
       "      <th>deaths</th>\n",
       "      <th>proportion_deaths</th>\n",
       "    </tr>\n",
       "  </thead>\n",
       "  <tbody>\n",
       "    <tr>\n",
       "      <th>0</th>\n",
       "      <td>1841-01-01</td>\n",
       "      <td>254</td>\n",
       "      <td>37</td>\n",
       "      <td>0.145669</td>\n",
       "    </tr>\n",
       "    <tr>\n",
       "      <th>1</th>\n",
       "      <td>1841-02-01</td>\n",
       "      <td>239</td>\n",
       "      <td>18</td>\n",
       "      <td>0.075314</td>\n",
       "    </tr>\n",
       "    <tr>\n",
       "      <th>2</th>\n",
       "      <td>1841-03-01</td>\n",
       "      <td>277</td>\n",
       "      <td>12</td>\n",
       "      <td>0.043321</td>\n",
       "    </tr>\n",
       "    <tr>\n",
       "      <th>3</th>\n",
       "      <td>1841-04-01</td>\n",
       "      <td>255</td>\n",
       "      <td>4</td>\n",
       "      <td>0.015686</td>\n",
       "    </tr>\n",
       "    <tr>\n",
       "      <th>4</th>\n",
       "      <td>1841-05-01</td>\n",
       "      <td>255</td>\n",
       "      <td>2</td>\n",
       "      <td>0.007843</td>\n",
       "    </tr>\n",
       "  </tbody>\n",
       "</table>\n",
       "</div>"
      ],
      "text/plain": [
       "         date  births  deaths  proportion_deaths\n",
       "0  1841-01-01     254      37           0.145669\n",
       "1  1841-02-01     239      18           0.075314\n",
       "2  1841-03-01     277      12           0.043321\n",
       "3  1841-04-01     255       4           0.015686\n",
       "4  1841-05-01     255       2           0.007843"
      ]
     },
     "execution_count": 13,
     "metadata": {},
     "output_type": "execute_result"
    }
   ],
   "source": [
    "# Next move to monthy dataframe\n",
    "# Add the proportions\n",
    "monthly['proportion_deaths'] = monthly['deaths'] / monthly['births']\n",
    "\n",
    "# View the results\n",
    "monthly.head()"
   ]
  },
  {
   "cell_type": "code",
   "execution_count": 14,
   "id": "f6502afe-ad26-4604-ab3a-bdd154b41a8a",
   "metadata": {},
   "outputs": [],
   "source": [
    "# Create a variable for when handwashing starts \n",
    "handwashing_start = '1847-06-01'"
   ]
  },
  {
   "cell_type": "code",
   "execution_count": 15,
   "id": "a703ab60-8956-4cef-b578-a296bb19b541",
   "metadata": {},
   "outputs": [],
   "source": [
    "# Create a boolean column that shows True after the date handwashing was introduced\n",
    "monthly['handwashing_started'] = monthly['date'] >= handwashing_start"
   ]
  },
  {
   "cell_type": "code",
   "execution_count": 16,
   "id": "e71b9957-cf65-4ff7-a67a-606278a4aa9d",
   "metadata": {},
   "outputs": [
    {
     "name": "stdout",
     "output_type": "stream",
     "text": [
      "   handwashing_started  mean_proportion_deaths\n",
      "0                False                0.105050\n",
      "1                 True                0.021093\n"
     ]
    }
   ],
   "source": [
    "# Calculate the mean proportion of deaths, grouping by the handwashing status\n",
    "monthly_summary = (\n",
    "    monthly.groupby('handwashing_started')\n",
    "    .agg(mean_proportion_deaths=('proportion_deaths', 'mean'))\n",
    "    .reset_index()\n",
    ")\n",
    "\n",
    "# Display the results\n",
    "print(monthly_summary)"
   ]
  },
  {
   "cell_type": "code",
   "execution_count": 18,
   "id": "6c25d970-78fe-41c2-b8ec-92358413e161",
   "metadata": {},
   "outputs": [],
   "source": [
    "# Evaluate the change in the mean monthly proportion of deaths and determine a 95% confidence interval\n",
    "\n",
    "# Separate the dataset into periods before and after handwashing implementation\n",
    "before_washing = monthly.query(\"date < @handwashing_start\")\n",
    "after_washing = monthly.query(\"date >= @handwashing_start\")\n",
    "\n",
    "# Extract proportion of deaths for each time period\n",
    "before_proportion = before_washing[\"proportion_deaths\"]\n",
    "after_proportion = after_washing[\"proportion_deaths\"]"
   ]
  },
  {
   "cell_type": "code",
   "execution_count": 19,
   "id": "1dbf2d22-474b-47bb-82fc-0b88fedd1c6c",
   "metadata": {},
   "outputs": [],
   "source": [
    "# Perform a bootstrap analysis of the reduction of deaths due to handwashing\n",
    "boot_mean_diff = []\n",
    "for i in range(3000):\n",
    "    boot_before = before_proportion.sample(frac=1, replace=True)\n",
    "    boot_after = after_proportion.sample(frac=1, replace=True)\n",
    "    boot_mean_diff.append( boot_after.mean() - boot_before.mean() )"
   ]
  },
  {
   "cell_type": "code",
   "execution_count": 20,
   "id": "5a83bec4-fe9f-4144-aebe-a7805a117438",
   "metadata": {},
   "outputs": [
    {
     "name": "stdout",
     "output_type": "stream",
     "text": [
      "0.025   -0.101392\n",
      "0.975   -0.067516\n",
      "dtype: float64\n"
     ]
    }
   ],
   "source": [
    "# Calculate a 95% confidence interval\n",
    "confidence_interval = pd.Series(boot_mean_diff).quantile([0.025, 0.975])\n",
    "print(confidence_interval)"
   ]
  }
 ],
 "metadata": {
  "kernelspec": {
   "display_name": "Python 3 (ipykernel)",
   "language": "python",
   "name": "python3"
  },
  "language_info": {
   "codemirror_mode": {
    "name": "ipython",
    "version": 3
   },
   "file_extension": ".py",
   "mimetype": "text/x-python",
   "name": "python",
   "nbconvert_exporter": "python",
   "pygments_lexer": "ipython3",
   "version": "3.10.12"
  }
 },
 "nbformat": 4,
 "nbformat_minor": 5
}
